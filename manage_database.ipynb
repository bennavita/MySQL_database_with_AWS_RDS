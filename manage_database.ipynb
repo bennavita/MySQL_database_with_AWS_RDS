{
 "cells": [
  {
   "cell_type": "code",
   "execution_count": null,
   "metadata": {},
   "outputs": [
    {
     "ename": "",
     "evalue": "",
     "output_type": "error",
     "traceback": [
      "\u001b[1;31mÉchec du démarrage du noyau. \n",
      "\u001b[1;31mLe noyau Python 3.10.4 n’est pas utilisable. Pour plus d’informations, consultez l’onglet Sortie de Jupyter. \n",
      "\u001b[1;31mPour plus d’informations, consultez Jupyter <a href='command:jupyter.viewOutput'>log</a>."
     ]
    }
   ],
   "source": [
    "import pymysql\n",
    "from sqlalchemy import create_engine\n",
    "from credentials import user, password, host, port, database, input_dict\n",
    "\n",
    "class ManageDataBase(object):\n",
    "    def __init__(self, database_name):\n",
    "        try:\n",
    "            # Attempt to establish a connexion with AWS\n",
    "            self.engine = self.database_engine()\n",
    "            self.db = self.connect_database()\n",
    "            print(f\"Connexion to {host} as {user} has been successful.\")\n",
    "        except Exception as e:\n",
    "            print(\n",
    "                f\"Connexion was unsuccessful due to the following error: {e}\")\n",
    "\n",
    "        finally:\n",
    "            self.columns = [key for key in input_dict.keys()][1:-1]\n",
    "            self.cursor = self.db.cursor()\n",
    "            self.database_name = database_name\n",
    "            self.create_database()\n",
    "            self.select_database()\n",
    "\n",
    "    def connect_database(self):\n",
    "        return pymysql.connect(host=host, user=user, password=password)\n",
    "\n",
    "    def create_database(self):\n",
    "        sql = f\"\"\"CREATE DATABASE IF NOT EXISTS {self.database_name}\"\"\"\n",
    "        self.cursor.execute(sql)\n",
    "\n",
    "    def select_database(self):\n",
    "        sql = f\"\"\"USE {self.database_name}\"\"\"\n",
    "        self.cursor.execute(sql)\n",
    "\n",
    "    def show_tables(self):\n",
    "        sql = \"\"\"SHOW TABLES\"\"\"\n",
    "        self.cursor.execute(sql)\n",
    "        print(self.cursor.fetchall())\n",
    "\n",
    "    def database_engine(self):\n",
    "        return create_engine(\n",
    "            url=\"mysql+pymysql://{0}:{1}@{2}:{3}/{4}\".format(\n",
    "                user, password, host, port, database\n",
    "            )\n",
    "        )\n",
    "\n",
    "    def close_chanel(self):\n",
    "        try:\n",
    "            self.db.close()\n",
    "            self.engine.dispose()\n",
    "            print(\"Connection with the database has been successfully closed\")\n",
    "        except Exception as e:\n",
    "            print(\n",
    "                f\"An error occured while closing the connection with the database: {e}\"\n",
    "            )\n",
    "\n",
    "\n",
    "class ManageTable(ManageDataBase):\n",
    "    def __init__(self, database_name, table):\n",
    "        super().__init__(database_name)\n",
    "        self.table_name = table\n",
    "        self.columns = [key for key in input_dict.keys()][1:-1]\n",
    "        self.create_table()\n",
    "\n",
    "    def create_table(self):\n",
    "        \"\"\"\n",
    "        Create a table in the database if it does not already exists.\n",
    "        Columns names are created dynamically from credentials file\n",
    "        Be aware that any change will create a new table in the database\n",
    "        \"\"\"\n",
    "        parameters = str([f'{key} {value}' for key, value in input_dict.items()])[1:-1]\n",
    "        sql = f\"\"\"CREATE TABLE if not exists {self.table_name} ({parameters})\n",
    "            \"\"\".replace(\"'\", \"\")\n",
    "        self.cursor.execute(sql)\n",
    "\n",
    "    def insert_dataframe(self, df):\n",
    "        df.to_sql(self.table_name, con=self.engine,\n",
    "                  if_exists=\"append\", index=False)\n",
    "\n",
    "    def table_content(self):\n",
    "        print(self.engine.execute(\n",
    "            f\"SELECT * FROM {self.table_name}\").fetchall())\n",
    "\n",
    "    def drop_table(self, table):\n",
    "        sql = f\"\"\"DROP TABLE {table}\"\"\"\n",
    "        self.cursor.execute(sql)\n",
    "\n",
    "    def describe_table(self):\n",
    "        sql = f\"\"\"DESCRIBE {self.table_name}\"\"\"\n",
    "        self.cursor.execute(sql)\n",
    "        print(self.cursor.fetchall())\n"
   ]
  },
  {
   "cell_type": "code",
   "execution_count": null,
   "metadata": {},
   "outputs": [],
   "source": []
  }
 ],
 "metadata": {
  "kernelspec": {
   "display_name": "Python 3",
   "language": "python",
   "name": "python3"
  },
  "language_info": {
   "name": "python",
   "version": "3.10.4 (v3.10.4:9d38120e33, Mar 23 2022, 17:29:05) [Clang 13.0.0 (clang-1300.0.29.30)]"
  },
  "orig_nbformat": 4,
  "vscode": {
   "interpreter": {
    "hash": "aee8b7b246df8f9039afb4144a1f6fd8d2ca17a180786b69acc140d282b71a49"
   }
  }
 },
 "nbformat": 4,
 "nbformat_minor": 2
}
